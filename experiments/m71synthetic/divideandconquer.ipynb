{
 "cells": [
  {
   "cell_type": "code",
   "execution_count": null,
   "metadata": {},
   "outputs": [
    {
     "name": "stdout",
     "output_type": "stream",
     "text": [
      "Selected device 1, which has 10822 MB available.\n"
     ]
    }
   ],
   "source": [
    "import sys\n",
    "sys.path.append(\"../../../\")\n",
    "\n",
    "from smcdet.prior import M71Prior\n",
    "from smcdet.images import M71ImageModel\n",
    "\n",
    "import torch\n",
    "\n",
    "import matplotlib.pyplot as plt\n",
    "\n",
    "import numpy as np\n",
    "\n",
    "import pickle\n",
    "\n",
    "from utils.misc import select_cuda_device\n",
    "\n",
    "device = select_cuda_device()\n",
    "torch.cuda.set_device(device)\n",
    "torch.set_default_device(device)"
   ]
  },
  {
   "cell_type": "markdown",
   "metadata": {},
   "source": [
    "### Generate one image"
   ]
  },
  {
   "cell_type": "code",
   "execution_count": 2,
   "metadata": {},
   "outputs": [
    {
     "data": {
      "text/plain": [
       "{'flux_alpha': 0.21411753249015655,\n",
       " 'flux_lower': 0.25165176391601557,\n",
       " 'flux_upper': 1804.6791992187502,\n",
       " 'counts_rate': 0.030264640226960182,\n",
       " 'background': 104.1486587524414,\n",
       " 'adu_per_nmgy': 240.57542419433594,\n",
       " 'psf_params': tensor([1.2269, 2.6466, 5.6672, 7.0683, 0.4634, 0.0884]),\n",
       " 'noise_additive': 7.312718763863302e-10,\n",
       " 'noise_multiplicative': 1.939667820930481}"
      ]
     },
     "execution_count": 2,
     "metadata": {},
     "output_type": "execute_result"
    }
   ],
   "source": [
    "with open('../../m71/manyimages/data/params.pkl', 'rb') as f:\n",
    "    params = pickle.load(f)\n",
    "\n",
    "params"
   ]
  },
  {
   "cell_type": "code",
   "execution_count": 3,
   "metadata": {},
   "outputs": [],
   "source": [
    "torch.manual_seed(0)\n",
    "np.random.seed(0)\n",
    "\n",
    "image_dim = 16\n",
    "\n",
    "background = params[\"background\"]\n",
    "adu_per_nmgy = params[\"adu_per_nmgy\"]\n",
    "psf_params = params[\"psf_params\"]\n",
    "noise_additive = params[\"noise_additive\"]\n",
    "noise_multiplicative = params[\"noise_multiplicative\"]\n",
    "\n",
    "pad = 1\n",
    "\n",
    "TruePrior = M71Prior(max_objects = 100,\n",
    "                     counts_rate = params[\"counts_rate\"],\n",
    "                     image_height = image_dim,\n",
    "                     image_width = image_dim,\n",
    "                     flux_alpha = params[\"flux_alpha\"],\n",
    "                     flux_lower = params[\"flux_lower\"],\n",
    "                     flux_upper = params[\"flux_upper\"],\n",
    "                     pad = pad)\n",
    "\n",
    "TrueImageModel = M71ImageModel(image_height = image_dim,\n",
    "                               image_width = image_dim,\n",
    "                               background = background,\n",
    "                               adu_per_nmgy = adu_per_nmgy,\n",
    "                               psf_params = psf_params,\n",
    "                               noise_additive = noise_additive,\n",
    "                               noise_multiplicative = noise_multiplicative)\n",
    "\n",
    "(unpruned_counts, unpruned_locs, unpruned_fluxes,\n",
    " pruned_counts, pruned_locs, pruned_fluxes, images) = TrueImageModel.generate(Prior = TruePrior,\n",
    "                                                                              num_images = 100)\n",
    "\n",
    "image = images[20].squeeze()"
   ]
  },
  {
   "cell_type": "markdown",
   "metadata": {},
   "source": [
    "### Plot attributes"
   ]
  },
  {
   "cell_type": "code",
   "execution_count": 4,
   "metadata": {},
   "outputs": [],
   "source": [
    "image_dim = images.shape[1]\n",
    "\n",
    "grid_interval = image_dim // 2\n",
    "pad = 1\n",
    "\n",
    "cmap = 'gray'\n",
    "linewidth = 6\n",
    "linestyle = 'dashed'\n",
    "pad_color1 = 'mediumblue'\n",
    "pad_color2 = 'gold'\n",
    "pad_color3 = 'red'\n",
    "pad_color4 = 'forestgreen'"
   ]
  },
  {
   "cell_type": "markdown",
   "metadata": {},
   "source": [
    "### Image"
   ]
  },
  {
   "cell_type": "code",
   "execution_count": 5,
   "metadata": {},
   "outputs": [
    {
     "data": {
      "image/png": "[encoded data removed]",
      "text/plain": [
       "<Figure size 600x600 with 1 Axes>"
      ]
     },
     "metadata": {},
     "output_type": "display_data"
    }
   ],
   "source": [
    "fig, ax = plt.subplots(1, 1, figsize = (6,6))\n",
    "img = ax.imshow(image.cpu().squeeze(), cmap = cmap)\n",
    "_ = ax.spines[['top', 'right', 'bottom', 'left']].set_visible(False)\n",
    "_ = ax.set_xticks([])\n",
    "_ = ax.set_yticks([])\n",
    "\n",
    "# tile borders\n",
    "_ = ax.vlines(x = [c * grid_interval - 0.5 for c in [0,1,2]],\n",
    "              ymin = 0 * grid_interval - 0.5, ymax = 2 * grid_interval - 0.5,\n",
    "              color = 'white', linewidth = linewidth)\n",
    "_ = ax.hlines(y = [c * grid_interval - 0.5 for c in [0,1,2]],\n",
    "              xmin = 0 * grid_interval - 0.5, xmax = 2 * grid_interval - 0.5,\n",
    "              color = 'white', linewidth = linewidth)\n",
    "\n",
    "# transparent padding (for image size consistency)\n",
    "_ = ax.vlines(x = [0 * grid_interval - pad - 0.5, 2 * grid_interval + pad - 0.5],\n",
    "              ymin = 0 * grid_interval - pad - 0.5, ymax = 2 * grid_interval + pad - 0.5,\n",
    "              color = pad_color1, linestyles = linestyle, linewidth = linewidth, alpha = 0)\n",
    "_ = ax.hlines(y = [0 * grid_interval - pad - 0.5, 2 * grid_interval + pad - 0.5],\n",
    "              xmin = 0 * grid_interval - pad - 0.5, xmax = 2 * grid_interval + pad - 0.5,\n",
    "              color = pad_color1, linestyles = linestyle, linewidth = linewidth, alpha = 0)\n",
    "\n",
    "fig.tight_layout()\n",
    "\n",
    "fig.savefig('results/figures/divideandconquer_image.png', dpi = 250, transparent = True, bbox_inches = 'tight', pad_inches = 0)"
   ]
  },
  {
   "cell_type": "markdown",
   "metadata": {},
   "source": [
    "### Four quadrants"
   ]
  },
  {
   "cell_type": "code",
   "execution_count": 6,
   "metadata": {},
   "outputs": [
    {
     "data": {
      "image/png": "[encoded data removed]",
      "text/plain": [
       "<Figure size 600x600 with 1 Axes>"
      ]
     },
     "metadata": {},
     "output_type": "display_data"
    }
   ],
   "source": [
    "fig, ax = plt.subplots(1, 1, figsize = (6,6))\n",
    "img = ax.imshow(image.cpu().squeeze(), cmap = cmap)\n",
    "_ = ax.spines[['top', 'right', 'bottom', 'left']].set_visible(False)\n",
    "_ = ax.set_xticks([])\n",
    "_ = ax.set_yticks([])\n",
    "\n",
    "# tile borders\n",
    "_ = ax.vlines(x = [c * grid_interval - 0.5 for c in [0,1,2]],\n",
    "              ymin = 0 * grid_interval - 0.5, ymax = 2 * grid_interval - 0.5,\n",
    "              color = 'white', linewidth = linewidth)\n",
    "_ = ax.hlines(y = [c * grid_interval - 0.5 for c in [0,1,2]],\n",
    "              xmin = 0 * grid_interval - 0.5, xmax = 2 * grid_interval - 0.5,\n",
    "              color = 'white', linewidth = linewidth)\n",
    "\n",
    "# quadrant 1\n",
    "_ = ax.vlines(x = [0 * grid_interval - pad - 0.5, 1 * grid_interval + pad - 0.5],\n",
    "              ymin = 0 * grid_interval - pad - 0.5, ymax = 1 * grid_interval + pad - 0.5,\n",
    "              color = pad_color1, linestyles = linestyle, linewidth = linewidth)\n",
    "_ = ax.hlines(y = [0 * grid_interval - pad - 0.5, 1 * grid_interval + pad - 0.5],\n",
    "              xmin = 0 * grid_interval - pad - 0.5, xmax = 1 * grid_interval + pad - 0.5,\n",
    "              color = pad_color1, linestyles = linestyle, linewidth = linewidth)\n",
    "\n",
    "# quadrant 2\n",
    "_ = ax.vlines(x = [0 * grid_interval - pad - 0.5, 1 * grid_interval + pad - 0.5],\n",
    "              ymin = 1 * grid_interval - pad - 0.5, ymax = 2 * grid_interval + pad - 0.5,\n",
    "              color = pad_color2, linestyles = linestyle, linewidth = linewidth)\n",
    "_ = ax.hlines(y = [1 * grid_interval - pad - 0.5, 2 * grid_interval + pad - 0.5],\n",
    "              xmin = 0 * grid_interval - pad, xmax = 1 * grid_interval + pad - 0.5,\n",
    "              color = pad_color2, linestyles = linestyle, linewidth = linewidth)\n",
    "\n",
    "# quadrant 3\n",
    "_ = ax.vlines(x = [1 * grid_interval - pad - 0.5, 2 * grid_interval + pad - 0.5],\n",
    "              ymin = 0 * grid_interval - pad - 0.5, ymax = 1 * grid_interval + pad - 0.5,\n",
    "              color = pad_color3, linestyles = linestyle, linewidth = linewidth)\n",
    "_ = ax.hlines(y = [0 * grid_interval - pad - 0.5, 1 * grid_interval + pad - 0.5],\n",
    "              xmin = 1 * grid_interval - pad - 0.5, xmax = 2 * grid_interval + pad - 0.5,\n",
    "              color = pad_color3, linestyles = linestyle, linewidth = linewidth)\n",
    "\n",
    "# quadrant 4\n",
    "_ = ax.vlines(x = [1 * grid_interval - pad - 0.5, 2 * grid_interval + pad - 0.5],\n",
    "              ymin = 1 * grid_interval - pad - 0.5, ymax = 2 * grid_interval + pad - 0.5,\n",
    "              color = pad_color4, linestyles = linestyle, linewidth = linewidth)\n",
    "_ = ax.hlines(y = [1 * grid_interval - pad - 0.5, 2 * grid_interval + pad - 0.5],\n",
    "              xmin = 1 * grid_interval - pad - 0.5, xmax = 2 * grid_interval + pad - 0.5,\n",
    "              color = pad_color4, linestyles = linestyle, linewidth = linewidth)\n",
    "\n",
    "fig.tight_layout()\n",
    "\n",
    "fig.savefig('results/figures/divideandconquer_quadrants.png', dpi = 250, transparent = True, bbox_inches = 'tight', pad_inches = 0)"
   ]
  },
  {
   "cell_type": "markdown",
   "metadata": {},
   "source": [
    "### Two halves"
   ]
  },
  {
   "cell_type": "code",
   "execution_count": 7,
   "metadata": {},
   "outputs": [
    {
     "data": {
      "image/png": "[encoded data removed]",
      "text/plain": [
       "<Figure size 600x600 with 1 Axes>"
      ]
     },
     "metadata": {},
     "output_type": "display_data"
    }
   ],
   "source": [
    "fig, ax = plt.subplots(1, 1, figsize = (6,6))\n",
    "img = ax.imshow(image.cpu().squeeze(), cmap = cmap)\n",
    "_ = ax.spines[['top', 'right', 'bottom', 'left']].set_visible(False)\n",
    "_ = ax.set_xticks([])\n",
    "_ = ax.set_yticks([])\n",
    "\n",
    "# tile borders\n",
    "_ = ax.vlines(x = [c * grid_interval - 0.5 for c in [0,1,2]],\n",
    "              ymin = 0 * grid_interval - 0.5, ymax = 2 * grid_interval - 0.5,\n",
    "              color = 'white', linewidth = linewidth)\n",
    "_ = ax.hlines(y = [c * grid_interval - 0.5 for c in [0,2]],\n",
    "              xmin = 0 * grid_interval - 0.5, xmax = 2 * grid_interval - 0.5,\n",
    "              color = 'white', linewidth = linewidth)\n",
    "\n",
    "# half 1\n",
    "_ = ax.vlines(x = [0 * grid_interval - pad - 0.5, 1 * grid_interval + pad - 0.5],\n",
    "              ymin = 0 * grid_interval - pad - 0.5, ymax = 2 * grid_interval + pad - 0.5,\n",
    "              color = pad_color1, linestyles = linestyle, linewidth = linewidth)\n",
    "_ = ax.hlines(y = [0 * grid_interval - pad - 0.5, 2 * grid_interval + pad - 0.5],\n",
    "              xmin = 0 * grid_interval - pad - 0.5, xmax = 1 * grid_interval + pad - 0.5,\n",
    "              color = pad_color1, linestyles = linestyle, linewidth = linewidth)\n",
    "\n",
    "# half 2\n",
    "_ = ax.vlines(x = [1 * grid_interval - pad - 0.5, 2 * grid_interval + pad - 0.5],\n",
    "              ymin = 0 * grid_interval - pad - 0.5, ymax = 2 * grid_interval + pad - 0.5,\n",
    "              color = pad_color3, linestyles = linestyle, linewidth = linewidth)\n",
    "_ = ax.hlines(y = [0 * grid_interval - pad - 0.5, 2 * grid_interval + pad - 0.5],\n",
    "              xmin = 1 * grid_interval - pad - 0.5, xmax = 2 * grid_interval + pad - 0.5,\n",
    "              color = pad_color3, linestyles = linestyle, linewidth = linewidth)\n",
    "\n",
    "fig.tight_layout()\n",
    "\n",
    "fig.savefig('results/figures/divideandconquer_halves.png', dpi = 250, transparent = True, bbox_inches = 'tight', pad_inches = 0)"
   ]
  },
  {
   "cell_type": "markdown",
   "metadata": {},
   "source": [
    "### One whole"
   ]
  },
  {
   "cell_type": "code",
   "execution_count": 8,
   "metadata": {},
   "outputs": [
    {
     "data": {
      "image/png": "[encoded data removed]",
      "text/plain": [
       "<Figure size 600x600 with 1 Axes>"
      ]
     },
     "metadata": {},
     "output_type": "display_data"
    }
   ],
   "source": [
    "fig, ax = plt.subplots(1, 1, figsize = (6,6))\n",
    "img = ax.imshow(image.cpu().squeeze(), cmap = cmap)\n",
    "_ = ax.spines[['top', 'right', 'bottom', 'left']].set_visible(False)\n",
    "_ = ax.set_xticks([])\n",
    "_ = ax.set_yticks([])\n",
    "\n",
    "# tile borders\n",
    "_ = ax.vlines(x = [c * grid_interval - 0.5 for c in [0,2]],\n",
    "              ymin = 0 * grid_interval - 0.5, ymax = 2 * grid_interval - 0.5,\n",
    "              color = 'white', linewidth = linewidth)\n",
    "_ = ax.hlines(y = [c * grid_interval - 0.5 for c in [0,2]],\n",
    "              xmin = 0 * grid_interval - 0.5, xmax = 2 * grid_interval - 0.5,\n",
    "              color = 'white', linewidth = linewidth)\n",
    "\n",
    "# image (with padding)\n",
    "_ = ax.vlines(x = [0 * grid_interval - pad - 0.5, 2 * grid_interval + pad - 0.5],\n",
    "              ymin = 0 * grid_interval - pad - 0.5, ymax = 2 * grid_interval + pad - 0.5,\n",
    "              color = pad_color1, linestyles = linestyle, linewidth = linewidth)\n",
    "_ = ax.hlines(y = [0 * grid_interval - pad - 0.5, 2 * grid_interval + pad - 0.5],\n",
    "              xmin = 0 * grid_interval - pad - 0.5, xmax = 2 * grid_interval + pad - 0.5,\n",
    "              color = pad_color1, linestyles = linestyle, linewidth = linewidth)\n",
    "\n",
    "fig.tight_layout()\n",
    "\n",
    "fig.savefig('results/figures/divideandconquer_whole.png', dpi = 250, transparent = True, bbox_inches = 'tight', pad_inches = 0)"
   ]
  }
 ],
 "metadata": {
  "kernelspec": {
   "display_name": ".venv",
   "language": "python",
   "name": "python3"
  },
  "language_info": {
   "codemirror_mode": {
    "name": "ipython",
    "version": 3
   },
   "file_extension": ".py",
   "mimetype": "text/x-python",
   "name": "python",
   "nbconvert_exporter": "python",
   "pygments_lexer": "ipython3",
   "version": "3.10.12"
  }
 },
 "nbformat": 4,
 "nbformat_minor": 2
}
